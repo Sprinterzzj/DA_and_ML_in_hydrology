{
 "cells": [
  {
   "cell_type": "markdown",
   "metadata": {},
   "source": [
    "# Знакомство со средой разработки **Jupyter notebook**"
   ]
  },
  {
   "cell_type": "markdown",
   "metadata": {},
   "source": [
    "## 1. Запуск программного кода\n",
    "\n",
    "+ Кнопка \"play\" в верхнем трее\n",
    "+ ```Ctrl + Enter``` - только запуск ячейки\n",
    "+ ```Shift + Enter``` - запуск ячейки + переход на нижнюю ячейку"
   ]
  },
  {
   "cell_type": "markdown",
   "metadata": {},
   "source": [
    "## 2. Сочетания клавищ\n",
    "\n",
    "+ ```Esc``` / ```Enter``` - переход между функцией редактирования и навигацией по среде\n",
    "+ ```D + D``` - удаление выбранной ячейки\n",
    "+ ```A``` - добавление новой ячейки сверху\n",
    "+ ```B``` - добавление новой ячейки снизу\n",
    "+ ```Tab``` - автодополнение / обзор методов\n",
    "+ ```Shift + Up/Down``` - множественное выделение ячеек\n",
    "+ ```Shift + M``` - объединение выделенных ячеек\n",
    "+ ```M / Y``` - перевод ячейки в режим ```markdown``` / ```code```"
   ]
  },
  {
   "cell_type": "markdown",
   "metadata": {},
   "source": [
    "## 3. Доступ к документации"
   ]
  },
  {
   "cell_type": "code",
   "execution_count": null,
   "metadata": {
    "collapsed": true
   },
   "outputs": [],
   "source": [
    "?list.append"
   ]
  },
  {
   "cell_type": "markdown",
   "metadata": {},
   "source": [
    "## 4. Графики внутри среды"
   ]
  },
  {
   "cell_type": "code",
   "execution_count": null,
   "metadata": {
    "collapsed": false
   },
   "outputs": [],
   "source": [
    "import matplotlib.pyplot as plt\n",
    "%matplotlib inline\n",
    "\n",
    "plt.scatter([i for i in range(10)], [i**2 for i in range(10)])"
   ]
  },
  {
   "cell_type": "markdown",
   "metadata": {},
   "source": [
    "## 5. \"Магические команды\"\n",
    "Команды по типу ```%matplotlib inline```, расширяющие возможности среды и упрощающие жизнь"
   ]
  },
  {
   "cell_type": "code",
   "execution_count": null,
   "metadata": {
    "collapsed": false
   },
   "outputs": [],
   "source": [
    "#Список доступных \"магических команд\"\n",
    "%lsmagic"
   ]
  },
  {
   "cell_type": "markdown",
   "metadata": {},
   "source": [
    "## 6. Прямой доступ к командной строке"
   ]
  },
  {
   "cell_type": "code",
   "execution_count": null,
   "metadata": {
    "collapsed": false
   },
   "outputs": [],
   "source": [
    "!ls"
   ]
  },
  {
   "cell_type": "markdown",
   "metadata": {},
   "source": [
    "## 7. $\\LaTeX$\n",
    "\n",
    "$$ P(A \\mid B) = \\frac{P(B \\mid A) \\, P(A)}{P(B)} $$"
   ]
  },
  {
   "cell_type": "markdown",
   "metadata": {},
   "source": [
    "## 8. Стандарт в области воспроизводимых вычислений\n",
    "\n",
    "+ Легко создавать\n",
    "+ Легко распространять\n",
    "+ Поддерживается просмотрщиком Github\n",
    "\n",
    "**Можно написать научную публикацию полностью в одной среде**"
   ]
  }
 ],
 "metadata": {
  "anaconda-cloud": {},
  "kernelspec": {
   "display_name": "Python [default]",
   "language": "python",
   "name": "python3"
  },
  "language_info": {
   "codemirror_mode": {
    "name": "ipython",
    "version": 3
   },
   "file_extension": ".py",
   "mimetype": "text/x-python",
   "name": "python",
   "nbconvert_exporter": "python",
   "pygments_lexer": "ipython3",
   "version": "3.5.2"
  }
 },
 "nbformat": 4,
 "nbformat_minor": 1
}
