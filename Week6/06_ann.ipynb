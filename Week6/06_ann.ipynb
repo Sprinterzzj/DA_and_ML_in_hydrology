{
 "cells": [
  {
   "cell_type": "markdown",
   "metadata": {},
   "source": [
    "# Моделирование речного стока с помощью искусственных нейронных сетей\n",
    "\n",
    "План:\n",
    "+ установка необходимых библиотек;\n",
    "+ подготовка данных;\n",
    "    * загрузка данных;\n",
    "    * резервирование тестовой выборки;\n",
    "    * масштабирование данных;\n",
    "+ создание модели нейронной сети;\n",
    "+ обучение нейронной сети;\n",
    "+ моделирование; \n",
    "+ оценка эффективности;\n",
    "+ тонкая настройка (домашнее задание)."
   ]
  },
  {
   "cell_type": "markdown",
   "metadata": {},
   "source": [
    "## 1. Установка необходимых библиотек\n",
    "\n",
    "Для работы нам понадобится последняя версия библиотеки [scikit-learn](http://scikit-learn.org/stable/install.html) -- 0.18.\n",
    "\n",
    "Для установки в командной строке достаточно ввести:\n",
    "\n",
    "```conda install scikit-learn```"
   ]
  },
  {
   "cell_type": "code",
   "execution_count": 1,
   "metadata": {
    "collapsed": true
   },
   "outputs": [],
   "source": [
    "# импорт необходимых библиотек\n",
    "import numpy as np\n",
    "import pandas as pd\n",
    "\n",
    "import matplotlib.pyplot as plt\n",
    "%matplotlib inline\n",
    "\n",
    "from sklearn.preprocessing import StandardScaler\n",
    "from sklearn.neural_network import MLPRegressor"
   ]
  },
  {
   "cell_type": "markdown",
   "metadata": {},
   "source": [
    "## 2. Подготовка данных\n",
    "\n",
    "[Узнать подробности об объекте и используемых данных.](https://github.com/hydrogo/ML_in_hydrology_gs/blob/master/Vinograd_workshop_ML.ipynb)"
   ]
  },
  {
   "cell_type": "code",
   "execution_count": 2,
   "metadata": {
    "collapsed": false
   },
   "outputs": [
    {
     "name": "stdout",
     "output_type": "stream",
     "text": [
      "<class 'pandas.core.frame.DataFrame'>\n",
      "DatetimeIndex: 11688 entries, 1980-01-01 to 2011-12-31\n",
      "Data columns (total 4 columns):\n",
      "Qobs    11688 non-null float64\n",
      "Ptot    11688 non-null float64\n",
      "Temp    11688 non-null float64\n",
      "PE      11688 non-null float64\n",
      "dtypes: float64(4)\n",
      "memory usage: 456.6 KB\n"
     ]
    }
   ],
   "source": [
    "# загрузка данных\n",
    "data = pd.read_csv('./data/blackberry_1980-2011.txt', skiprows=12, header=0, sep=';', usecols=[0, 1, 2, 4, 5], \n",
    "                   names=['Date', 'Qobs', 'Ptot', 'Temp', 'PE'], index_col=0, parse_dates=True)\n",
    "data.info()"
   ]
  },
  {
   "cell_type": "code",
   "execution_count": 3,
   "metadata": {
    "collapsed": true
   },
   "outputs": [],
   "source": [
    "# формирование матриц признаков и векторов целевой переменной\n",
    "X_train = data[['Ptot', 'Temp', 'PE']]['1980':'2000'].values\n",
    "X_test  = data[['Ptot', 'Temp', 'PE']]['2001':'2011'].values\n",
    "\n",
    "y_train = data['Qobs']['1980':'2000'].values\n",
    "y_test  = data['Qobs']['2001':'2011'].values"
   ]
  },
  {
   "cell_type": "code",
   "execution_count": 4,
   "metadata": {
    "collapsed": true
   },
   "outputs": [],
   "source": [
    "# масштабирование признаков\n",
    "\n",
    "# создаем объект скейлер\n",
    "scaler = StandardScaler()\n",
    "\n",
    "# нахождим параметры для скейлера\n",
    "scaler.fit(X_train)\n",
    "\n",
    "# масштабируем матрицы признаков обучающей и контрольной выборок\n",
    "X_train = scaler.transform(X_train)\n",
    "X_test = scaler.transform(X_test)"
   ]
  },
  {
   "cell_type": "markdown",
   "metadata": {},
   "source": [
    "## 3. Создание модели нейронной сети"
   ]
  },
  {
   "cell_type": "code",
   "execution_count": 19,
   "metadata": {
    "collapsed": false
   },
   "outputs": [],
   "source": [
    "# параметры нейронной сети\n",
    "MLPRegressor?"
   ]
  },
  {
   "cell_type": "code",
   "execution_count": 12,
   "metadata": {
    "collapsed": true
   },
   "outputs": [],
   "source": [
    "# создаем модель нейронной сети с одним скрытым слоем и 500 нейронов на нем\n",
    "mlp = MLPRegressor(hidden_layer_sizes=(500,), random_state=0)"
   ]
  },
  {
   "cell_type": "markdown",
   "metadata": {},
   "source": [
    "## 4. Обучение нейронной сети"
   ]
  },
  {
   "cell_type": "code",
   "execution_count": 13,
   "metadata": {
    "collapsed": false
   },
   "outputs": [
    {
     "data": {
      "text/plain": [
       "MLPRegressor(activation='relu', alpha=0.0001, batch_size='auto', beta_1=0.9,\n",
       "       beta_2=0.999, early_stopping=False, epsilon=1e-08,\n",
       "       hidden_layer_sizes=(500,), learning_rate='constant',\n",
       "       learning_rate_init=0.001, max_iter=200, momentum=0.9,\n",
       "       nesterovs_momentum=True, power_t=0.5, random_state=0, shuffle=True,\n",
       "       solver='adam', tol=0.0001, validation_fraction=0.1, verbose=False,\n",
       "       warm_start=False)"
      ]
     },
     "execution_count": 13,
     "metadata": {},
     "output_type": "execute_result"
    }
   ],
   "source": [
    "# обучаем нейронную сеть с параметрами по умолчанию\n",
    "mlp.fit(X_train, y_train)"
   ]
  },
  {
   "cell_type": "markdown",
   "metadata": {},
   "source": [
    "## 5. Моделирование речного стока"
   ]
  },
  {
   "cell_type": "code",
   "execution_count": 14,
   "metadata": {
    "collapsed": true
   },
   "outputs": [],
   "source": [
    "# моделирование на обучающей выборке\n",
    "pred_train = mlp.predict(X_train)\n",
    "\n",
    "# моделирование на проверочной выборке\n",
    "pred_test = mlp.predict(X_test)"
   ]
  },
  {
   "cell_type": "markdown",
   "metadata": {},
   "source": [
    "## 6. Оценка эффективности расчетов\n",
    "\n",
    "Используем стандартный критерий R2 (коэффициент детерминации)"
   ]
  },
  {
   "cell_type": "code",
   "execution_count": 15,
   "metadata": {
    "collapsed": false
   },
   "outputs": [
    {
     "data": {
      "text/plain": [
       "0.13830043018401295"
      ]
     },
     "execution_count": 15,
     "metadata": {},
     "output_type": "execute_result"
    }
   ],
   "source": [
    "# эффективность расчетов на обучающей выборке\n",
    "mlp.score(X_train, y_train)"
   ]
  },
  {
   "cell_type": "code",
   "execution_count": 16,
   "metadata": {
    "collapsed": false
   },
   "outputs": [
    {
     "data": {
      "text/plain": [
       "0.078920185711924273"
      ]
     },
     "execution_count": 16,
     "metadata": {},
     "output_type": "execute_result"
    }
   ],
   "source": [
    "# эффективность расчетов на проверочной выборке\n",
    "mlp.score(X_test, y_test)"
   ]
  },
  {
   "cell_type": "code",
   "execution_count": 17,
   "metadata": {
    "collapsed": false
   },
   "outputs": [
    {
     "data": {
      "text/plain": [
       "<matplotlib.legend.Legend at 0x7fbd56d18be0>"
      ]
     },
     "execution_count": 17,
     "metadata": {},
     "output_type": "execute_result"
    },
    {
     "data": {
      "image/png": "[encoded data removed]",
      "text/plain": [
       "<matplotlib.figure.Figure at 0x7fbd56dc1b00>"
      ]
     },
     "metadata": {},
     "output_type": "display_data"
    }
   ],
   "source": [
    "# визуализация результатов\n",
    "plt.scatter(pred_train, y_train, c='blue', label= 'train')\n",
    "plt.scatter(pred_test, y_test, c='red', label='test')\n",
    "\n",
    "plt.plot(pred_train, pred_train, 'k--', label='x=y')\n",
    "\n",
    "plt.xlabel('predicted')\n",
    "plt.ylabel('observed')\n",
    "plt.legend()"
   ]
  },
  {
   "cell_type": "code",
   "execution_count": 18,
   "metadata": {
    "collapsed": false
   },
   "outputs": [
    {
     "data": {
      "text/plain": [
       "<matplotlib.legend.Legend at 0x7fbd4fff6b70>"
      ]
     },
     "execution_count": 18,
     "metadata": {},
     "output_type": "execute_result"
    },
    {
     "data": {
      "image/png": "[encoded data removed]",
      "text/plain": [
       "<matplotlib.figure.Figure at 0x7fbd56ccd3c8>"
      ]
     },
     "metadata": {},
     "output_type": "display_data"
    }
   ],
   "source": [
    "plt.plot(data['2001':'2011'].index, y_test, 'b-', label='observed')\n",
    "plt.plot(data['2001':'2011'].index, pred_test, 'r-', label='MLP')\n",
    "plt.legend(loc='best')"
   ]
  },
  {
   "cell_type": "markdown",
   "metadata": {},
   "source": [
    "## Выводы\n",
    "\n",
    "**Все плохо.**\n",
    "\n",
    "## Что дальше?\n",
    "\n",
    "**В чем может быть причина низкой эффективности нейронной сети?**\n",
    "\n",
    "Свои варианты модели присылайте на адрес ayzel(sobaka)iwp.ru"
   ]
  }
 ],
 "metadata": {
  "kernelspec": {
   "display_name": "Python [default]",
   "language": "python",
   "name": "python3"
  },
  "language_info": {
   "codemirror_mode": {
    "name": "ipython",
    "version": 3
   },
   "file_extension": ".py",
   "mimetype": "text/x-python",
   "name": "python",
   "nbconvert_exporter": "python",
   "pygments_lexer": "ipython3",
   "version": "3.5.2"
  }
 },
 "nbformat": 4,
 "nbformat_minor": 1
}
